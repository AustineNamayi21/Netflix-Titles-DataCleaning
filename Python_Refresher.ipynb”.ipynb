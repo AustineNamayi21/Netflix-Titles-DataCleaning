{
 "cells": [
  {
   "cell_type": "code",
   "execution_count": 2,
   "id": "b1f51d4b-0f84-43e9-96ea-57606436e330",
   "metadata": {},
   "outputs": [
    {
     "name": "stdin",
     "output_type": "stream",
     "text": [
      "Please enter a number: 12\n"
     ]
    },
    {
     "name": "stdout",
     "output_type": "stream",
     "text": [
      "For,12, days there are,1036800, seconds in total\n"
     ]
    }
   ],
   "source": [
    "# Question 1\n",
    "# ask user for any number of days\n",
    "nodays = int(input(\"Please enter a number:\"))\n",
    "\n",
    "# formula to calculate the seconds in a day and number of days provided\n",
    "day_seconds = 24*60*60 \n",
    "total_day_seconds = nodays * day_seconds\n",
    "\n",
    "# print the result\n",
    "print(\"For\", nodays, \" days there are\", total_day_seconds, \" seconds in total\", sep=',')"
   ]
  },
  {
   "cell_type": "code",
   "execution_count": 3,
   "id": "6df787b1-d0b1-4d07-b704-2a278c0fa1d0",
   "metadata": {},
   "outputs": [
    {
     "name": "stdin",
     "output_type": "stream",
     "text": [
      "Please enter sphere radius: 45.9\n"
     ]
    },
    {
     "name": "stdout",
     "output_type": "stream",
     "text": [
      "The calculated volume of the sphere is: 404861.46408\n"
     ]
    }
   ],
   "source": [
    "# Question 2\n",
    "#pie set as a constant unchangeable variable\n",
    "PI = 3.14\n",
    "\n",
    "# ask user to input desired radius\n",
    "radius = float(input(\"Please enter sphere radius:\"))\n",
    "\n",
    "# calculate the volume using given formula\n",
    "volume = (4/3) * PI * (radius ** 3)\n",
    "\n",
    "#print the result\n",
    "print(\"The calculated volume of the sphere is:\", volume)"
   ]
  },
  {
   "cell_type": "code",
   "execution_count": 4,
   "id": "080c77fb-3382-4b72-8e36-ed71b5d193bf",
   "metadata": {},
   "outputs": [
    {
     "name": "stdin",
     "output_type": "stream",
     "text": [
      "Enter the side length of the square:  16\n"
     ]
    },
    {
     "name": "stdout",
     "output_type": "stream",
     "text": [
      "Perimeter is: 64\n",
      "Area is: 256\n"
     ]
    }
   ],
   "source": [
    "# Question 3\n",
    "# perimeter formula function\n",
    "def perimeter(length):\n",
    "    result = length * 4\n",
    "    print(\"Perimeter is:\", result)\n",
    "    \n",
    "# area formula function\n",
    "def area(length):\n",
    "    result = length * length\n",
    "    print(\"Area is:\", result)\n",
    "\n",
    "# ask user to enter the length\n",
    "length = int(input(\"Enter the side length of the square: \"))\n",
    "\n",
    "# Call the two functions \n",
    "perimeter(length)\n",
    "area(length)\n"
   ]
  },
  {
   "cell_type": "code",
   "execution_count": 13,
   "id": "263f1f30-183f-4f23-a876-d88b0491a31d",
   "metadata": {},
   "outputs": [
    {
     "name": "stdin",
     "output_type": "stream",
     "text": [
      "Please enter a letter e\n"
     ]
    },
    {
     "name": "stdout",
     "output_type": "stream",
     "text": [
      "The letter e is lowercase\n"
     ]
    }
   ],
   "source": [
    "# Question 4\n",
    "# ask user to enter a letter\n",
    "letter = input(\"Please enter a letter\")\n",
    "\n",
    "# Check if user input is an alphabet character\n",
    "if letter.isalpha():\n",
    "\n",
    "# if statement to check if character is uppercase\n",
    "    if letter == letter.upper():\n",
    "        print(\"The letter\", letter, \"is uppercase\")\n",
    "\n",
    "# if statement to check if character is lowercase\n",
    "    elif letter == letter.lower():\n",
    "        print(\"The letter\", letter, \"is lowercase\")\n",
    "\n",
    "# return statement if character is not a letter\n",
    "else:\n",
    "    print(\"Character is not a letter\")"
   ]
  },
  {
   "cell_type": "code",
   "execution_count": 14,
   "id": "58fa95c2-388d-4fe9-9a6f-4e2fa7f75173",
   "metadata": {},
   "outputs": [
    {
     "name": "stdout",
     "output_type": "stream",
     "text": [
      "X is: 1.0416666666666665\n"
     ]
    }
   ],
   "source": [
    "# initialize the variables x and y\n",
    "x =0\n",
    "y = 20\n",
    "\n",
    "# repeat loop until y is less than 6\n",
    "while y>6:\n",
    "    y = y-4\n",
    "    x = x + 2/y\n",
    "# display value of x\n",
    "print(\"X is:\", x)"
   ]
  },
  {
   "cell_type": "code",
   "execution_count": 15,
   "id": "eecf35cb-11eb-4e7d-890d-bc1e837b1a8b",
   "metadata": {},
   "outputs": [
    {
     "name": "stdin",
     "output_type": "stream",
     "text": [
      "Enter value #1:  2\n",
      "Enter value #2:  3\n",
      "Enter value #3:  4\n",
      "Enter value #4:  5\n",
      "Enter value #5:  6\n"
     ]
    },
    {
     "name": "stdout",
     "output_type": "stream",
     "text": [
      "The average of the entered values is: 4.0\n"
     ]
    }
   ],
   "source": [
    "# Initialize an empty list to store values\n",
    "values = []\n",
    "\n",
    "# For loop to get 5 values from the user\n",
    "for i in range(5):\n",
    "    num = float(input(f\"Enter value #{i + 1}: \"))\n",
    "    values.append(num)\n",
    "\n",
    "# Calculate the average\n",
    "average = sum(values) / len(values)\n",
    "\n",
    "# Display the average\n",
    "print(\"The average of the entered values is:\", average)\n"
   ]
  },
  {
   "cell_type": "code",
   "execution_count": null,
   "id": "f80dd5f2-0023-4aa8-9481-ea4842b57335",
   "metadata": {},
   "outputs": [],
   "source": []
  },
  {
   "cell_type": "code",
   "execution_count": null,
   "id": "9e4c9ad8-aa8c-4152-9f5c-03d408915602",
   "metadata": {},
   "outputs": [],
   "source": []
  }
 ],
 "metadata": {
  "kernelspec": {
   "display_name": "Python [conda env:base] *",
   "language": "python",
   "name": "conda-base-py"
  },
  "language_info": {
   "codemirror_mode": {
    "name": "ipython",
    "version": 3
   },
   "file_extension": ".py",
   "mimetype": "text/x-python",
   "name": "python",
   "nbconvert_exporter": "python",
   "pygments_lexer": "ipython3",
   "version": "3.13.5"
  }
 },
 "nbformat": 4,
 "nbformat_minor": 5
}
