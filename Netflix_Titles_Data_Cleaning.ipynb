{
 "cells": [
  {
   "cell_type": "code",
   "execution_count": null,
   "id": "3e553dac-5e92-4621-9c9d-db03a724f914",
   "metadata": {},
   "outputs": [],
   "source": [
    "import pandas as pd\n"
   ]
  },
  {
   "cell_type": "code",
   "execution_count": 5,
   "id": "f36b0d69-3fdb-4db4-b6e9-a3b9f4c68ebf",
   "metadata": {},
   "outputs": [],
   "source": [
    "file_path = \"C:\\\\Users\\\\danie\\\\Downloads\\\\netflix_titles (1).csv\"\n"
   ]
  },
  {
   "cell_type": "code",
   "execution_count": 8,
   "id": "545e68c9-4508-48f6-bc00-45d5c420440b",
   "metadata": {},
   "outputs": [],
   "source": [
    "df = pd.read_csv(\"C:\\\\Users\\\\danie\\\\Downloads\\\\netflix_titles (1).csv\")\n"
   ]
  },
  {
   "cell_type": "code",
   "execution_count": 9,
   "id": "02be897b-e7b5-49eb-8de6-b77fc073717c",
   "metadata": {},
   "outputs": [
    {
     "name": "stdout",
     "output_type": "stream",
     "text": [
      "Initial Setup Complete\n",
      "Data loaded successfully.\n"
     ]
    }
   ],
   "source": [
    "print(\"Initial Setup Complete\")\n",
    "print(\"Data loaded successfully.\")"
   ]
  },
  {
   "cell_type": "code",
   "execution_count": 14,
   "id": "6a24d37d-04d5-4585-a7a7-e4413f577d40",
   "metadata": {},
   "outputs": [
    {
     "name": "stdout",
     "output_type": "stream",
     "text": [
      "Question 1 : rows and colunms in the dataset)\n"
     ]
    }
   ],
   "source": [
    "print(\"Question 1 : rows and colunms in the dataset)\")"
   ]
  },
  {
   "cell_type": "code",
   "execution_count": 16,
   "id": "4c7d63ec-7162-4b13-bba4-3fcaaa25f4ed",
   "metadata": {},
   "outputs": [],
   "source": [
    "# Use the .shape attribute to get (rows, columns)\n",
    "num_rows = df.shape[0]\n",
    "num_cols = df.shape[1]"
   ]
  },
  {
   "cell_type": "code",
   "execution_count": 12,
   "id": "9a6b3eb7-6c08-43a7-805f-172a478fbb98",
   "metadata": {},
   "outputs": [
    {
     "name": "stdout",
     "output_type": "stream",
     "text": [
      "The dataset contains 8807 rows and 12 columns.\n"
     ]
    }
   ],
   "source": [
    "print(f\"The dataset contains {num_rows} rows and {num_cols} columns.\")"
   ]
  },
  {
   "cell_type": "code",
   "execution_count": 15,
   "id": "5ebdaddd-a454-4f56-91f9-c63ac01172d2",
   "metadata": {},
   "outputs": [
    {
     "name": "stdout",
     "output_type": "stream",
     "text": [
      "Question 2 : Data Types in the dataset\n"
     ]
    }
   ],
   "source": [
    "print(\"Question 2 : Data Types in the dataset\")"
   ]
  },
  {
   "cell_type": "code",
   "execution_count": 19,
   "id": "3153db2e-6947-4373-8168-ae0e7107098c",
   "metadata": {},
   "outputs": [
    {
     "name": "stdout",
     "output_type": "stream",
     "text": [
      "show_id         object\n",
      "type            object\n",
      "title           object\n",
      "director        object\n",
      "cast            object\n",
      "country         object\n",
      "date_added      object\n",
      "release_year     int64\n",
      "rating          object\n",
      "duration        object\n",
      "listed_in       object\n",
      "description     object\n",
      "dtype: object\n"
     ]
    }
   ],
   "source": [
    "print(df.dtypes)"
   ]
  },
  {
   "cell_type": "code",
   "execution_count": 22,
   "id": "f4a1da33-fded-43d1-8b77-db0dfb431ec6",
   "metadata": {},
   "outputs": [
    {
     "name": "stdout",
     "output_type": "stream",
     "text": [
      "Question 3 : check if dataset is complete\n"
     ]
    }
   ],
   "source": [
    "print(\"Question 3 : check if dataset is complete\")"
   ]
  },
  {
   "cell_type": "code",
   "execution_count": 23,
   "id": "2810fa21-4188-442b-82f3-31b4dccb98de",
   "metadata": {},
   "outputs": [],
   "source": [
    "# Check for missing values: .isnull() creates a boolean mask, .sum() counts the 'True' values.\n",
    "missing_values = df.isnull().sum()"
   ]
  },
  {
   "cell_type": "code",
   "execution_count": 24,
   "id": "f7ef9e35-7bbd-4cc4-8b69-169f27edb811",
   "metadata": {},
   "outputs": [],
   "source": [
    "# Filter to show only columns with missing data\n",
    "columns_with_missing_data = missing_values[missing_values > 0]\n"
   ]
  },
  {
   "cell_type": "code",
   "execution_count": 25,
   "id": "457b9c58-6e49-4cb2-a6cb-245f4f2baa12",
   "metadata": {},
   "outputs": [
    {
     "name": "stdout",
     "output_type": "stream",
     "text": [
      "Missing Value Counts by Column:\n",
      "director      2634\n",
      "cast           825\n",
      "country        831\n",
      "date_added      10\n",
      "rating           4\n",
      "duration         3\n",
      "dtype: int64\n"
     ]
    }
   ],
   "source": [
    "print(\"Missing Value Counts by Column:\")\n",
    "print(columns_with_missing_data)\n"
   ]
  },
  {
   "cell_type": "code",
   "execution_count": 26,
   "id": "a6fb6c20-8e01-4329-9f8f-ac11f5a5279a",
   "metadata": {},
   "outputs": [
    {
     "name": "stdout",
     "output_type": "stream",
     "text": [
      "\n",
      "Conclusion: The dataset IS NOT complete (missing values found).\n"
     ]
    }
   ],
   "source": [
    "# Overall conclusion on data completeness\n",
    "if columns_with_missing_data.sum() > 0:\n",
    "    print(\"\\nConclusion: The dataset IS NOT complete (some missing values have been found).\")\n",
    "else:\n",
    "    print(\"\\nConclusion: The dataset IS complete (no missing values found).\")"
   ]
  },
  {
   "cell_type": "code",
   "execution_count": 30,
   "id": "07c08f3c-97e0-457b-a28f-011d36990a77",
   "metadata": {},
   "outputs": [
    {
     "name": "stdout",
     "output_type": "stream",
     "text": [
      "Question 4 : number of Movies and TV Shows among the last 20 rows of the dataset.\n"
     ]
    }
   ],
   "source": [
    "\n",
    "print(\"Question 4 : number of Movies and TV Shows among the last 20 rows \" + \n",
    "\"of the dataset.\")\n"
   ]
  },
  {
   "cell_type": "code",
   "execution_count": 31,
   "id": "082a1698-3599-45eb-a68f-6c9b511e9151",
   "metadata": {},
   "outputs": [],
   "source": [
    "# Isolate the last 20 rows\n",
    "last_20_rows = df.tail(20)"
   ]
  },
  {
   "cell_type": "code",
   "execution_count": 32,
   "id": "d05da536-1a9c-4f44-a1b6-3bb3f3b8e253",
   "metadata": {},
   "outputs": [],
   "source": [
    "# Count the frequency of each 'type' (Movie/TV Show) in the subset\n",
    "content_counts = last_20_rows['type'].value_counts()"
   ]
  },
  {
   "cell_type": "code",
   "execution_count": 33,
   "id": "ce8d027d-f12f-4ded-acaf-cc0f18ae710a",
   "metadata": {},
   "outputs": [
    {
     "name": "stdout",
     "output_type": "stream",
     "text": [
      "Content Counts in the Last 20 Rows:\n",
      "type\n",
      "Movie      15\n",
      "TV Show     5\n",
      "Name: count, dtype: int64\n"
     ]
    }
   ],
   "source": [
    "print(\"Content Counts in the Last 20 Rows:\")\n",
    "print(content_counts)"
   ]
  },
  {
   "cell_type": "code",
   "execution_count": null,
   "id": "950edf71-a0f1-499d-8533-01d0b020a64c",
   "metadata": {},
   "outputs": [],
   "source": []
  }
 ],
 "metadata": {
  "kernelspec": {
   "display_name": "Python [conda env:base] *",
   "language": "python",
   "name": "conda-base-py"
  },
  "language_info": {
   "codemirror_mode": {
    "name": "ipython",
    "version": 3
   },
   "file_extension": ".py",
   "mimetype": "text/x-python",
   "name": "python",
   "nbconvert_exporter": "python",
   "pygments_lexer": "ipython3",
   "version": "3.13.5"
  }
 },
 "nbformat": 4,
 "nbformat_minor": 5
}
